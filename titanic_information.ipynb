{
 "cells": [
  {
   "metadata": {},
   "cell_type": "markdown",
   "source": [
    "# Titanic Data Analysis with Pandas\n",
    "\n",
    "In this notebook, we will perform several data analysis operations using the Titanic dataset. We will use the Pandas library to manipulate and analyze the data.\n",
    "\n",
    "Titanic Dataset: https://www.kaggle.com/c/titanic/data\n",
    "\n",
    "The main columns are:\n",
    "- PassengerId: Unique identifier for each passenger.\n",
    "- Survived: Indicates whether the passenger survived (1) or not (0).\n",
    "- Pclass: Passenger class (1 = First, 2 = Second, 3 = Third).\n",
    "- Name: Passenger's name\n",
    "- Sex: Passenger's sex\n",
    "- SibSp: Number of siblings/spouses aboard\n",
    "- Parch: Number of parents/children aboard\n",
    "- Ticket: Ticket number\n",
    "- Fare: Ticket fare\n",
    "- Cabin: Cabin number\n",
    "- Embarked: Port of embarkation (C = Cherbourg, Q = Queenstown, S = Southampton)"
   ],
   "id": "e3a9a32b14cbc09c"
  },
  {
   "cell_type": "code",
   "id": "initial_id",
   "metadata": {
    "collapsed": true,
    "ExecuteTime": {
     "end_time": "2025-10-24T22:05:40.931512Z",
     "start_time": "2025-10-24T22:05:40.510800Z"
    }
   },
   "source": [
    "import pandas as pd\n",
    "from pandas import pivot_table\n",
    "import matplotlib.pyplot as plt\n"
   ],
   "outputs": [],
   "execution_count": 17
  },
  {
   "metadata": {},
   "cell_type": "markdown",
   "source": [
    "## Slicing and Subsets\n",
    "\n",
    "Create two new DataFrames from the original `df_titanic` DataFrame:\n",
    "\n",
    "1. `df_id`: containing only the columns `PassengerId` and `Name`.\n",
    "2. `df_var_number`: containing only the columns `Age` and `Fare`."
   ],
   "id": "621dbce569d9796d"
  },
  {
   "metadata": {
    "ExecuteTime": {
     "end_time": "2025-10-24T21:15:44.177872Z",
     "start_time": "2025-10-24T21:15:44.161402Z"
    }
   },
   "cell_type": "code",
   "source": [
    "df_titanic = pd.read_csv('titanic.csv')\n",
    "print(df_titanic.head())"
   ],
   "id": "bc40d8666e929eb1",
   "outputs": [
    {
     "name": "stdout",
     "output_type": "stream",
     "text": [
      "   PassengerId  Survived  Pclass  \\\n",
      "0            1         0       3   \n",
      "1            2         1       1   \n",
      "2            3         1       3   \n",
      "3            4         1       1   \n",
      "4            5         0       3   \n",
      "\n",
      "                                                Name     Sex   Age  SibSp  \\\n",
      "0                            Braund, Mr. Owen Harris    male  22.0      1   \n",
      "1  Cumings, Mrs. John Bradley (Florence Briggs Th...  female  38.0      1   \n",
      "2                             Heikkinen, Miss. Laina  female  26.0      0   \n",
      "3       Futrelle, Mrs. Jacques Heath (Lily May Peel)  female  35.0      1   \n",
      "4                           Allen, Mr. William Henry    male  35.0      0   \n",
      "\n",
      "   Parch            Ticket     Fare Cabin Embarked  \n",
      "0      0         A/5 21171   7.2500   NaN        S  \n",
      "1      0          PC 17599  71.2833   C85        C  \n",
      "2      0  STON/O2. 3101282   7.9250   NaN        S  \n",
      "3      0            113803  53.1000  C123        S  \n",
      "4      0            373450   8.0500   NaN        S  \n"
     ]
    }
   ],
   "execution_count": 3
  },
  {
   "metadata": {
    "ExecuteTime": {
     "end_time": "2025-10-24T21:17:16.624781Z",
     "start_time": "2025-10-24T21:17:16.619200Z"
    }
   },
   "cell_type": "code",
   "source": [
    "df_id = df_titanic[['PassengerId', 'Name']]\n",
    "print(df_id.head())"
   ],
   "id": "b7bae07e58b837d9",
   "outputs": [
    {
     "name": "stdout",
     "output_type": "stream",
     "text": [
      "   PassengerId                                               Name\n",
      "0            1                            Braund, Mr. Owen Harris\n",
      "1            2  Cumings, Mrs. John Bradley (Florence Briggs Th...\n",
      "2            3                             Heikkinen, Miss. Laina\n",
      "3            4       Futrelle, Mrs. Jacques Heath (Lily May Peel)\n",
      "4            5                           Allen, Mr. William Henry\n"
     ]
    }
   ],
   "execution_count": 4
  },
  {
   "metadata": {
    "ExecuteTime": {
     "end_time": "2025-10-24T21:18:01.259623Z",
     "start_time": "2025-10-24T21:18:01.252972Z"
    }
   },
   "cell_type": "code",
   "source": [
    "df_var_number = df_titanic[['Age', 'Fare']]\n",
    "print(df_var_number.head())"
   ],
   "id": "2f87eb6c75982aaa",
   "outputs": [
    {
     "name": "stdout",
     "output_type": "stream",
     "text": [
      "    Age     Fare\n",
      "0  22.0   7.2500\n",
      "1  38.0  71.2833\n",
      "2  26.0   7.9250\n",
      "3  35.0  53.1000\n",
      "4  35.0   8.0500\n"
     ]
    }
   ],
   "execution_count": 5
  },
  {
   "metadata": {},
   "cell_type": "markdown",
   "source": [
    "## Grouping and Aggregation\n",
    "Average age and maximum fare by sex."
   ],
   "id": "a76cef95e04fba83"
  },
  {
   "metadata": {
    "ExecuteTime": {
     "end_time": "2025-10-24T21:26:42.105938Z",
     "start_time": "2025-10-24T21:26:42.094376Z"
    }
   },
   "cell_type": "code",
   "source": [
    "df_avg_age_fare = df_titanic.groupby('Sex')[['Age', 'Fare']].agg({\n",
    "    'Age': 'mean',\n",
    "    'Fare': 'max'\n",
    "}).round(2)\n",
    "\n",
    "print(df_avg_age_fare.head())"
   ],
   "id": "1e8757350939a1a9",
   "outputs": [
    {
     "name": "stdout",
     "output_type": "stream",
     "text": [
      "          Age    Fare\n",
      "Sex                  \n",
      "female  27.92  512.33\n",
      "male    30.73  512.33\n"
     ]
    }
   ],
   "execution_count": 7
  },
  {
   "metadata": {
    "ExecuteTime": {
     "end_time": "2025-10-24T22:21:44.191969Z",
     "start_time": "2025-10-24T22:21:44.146170Z"
    }
   },
   "cell_type": "code",
   "source": [
    "df_avg_age_fare['Age'].plot(kind='bar')\n",
    "plt.ylabel('Average Age')\n",
    "plt.title('Average age per sex')\n",
    "plt.xticks(rotation=0)\n",
    "plt.show()\n"
   ],
   "id": "ba75c8d72372d9b0",
   "outputs": [
    {
     "data": {
      "text/plain": [
       "<Figure size 640x480 with 1 Axes>"
      ],
      "image/png": "[encoded data removed]"
     },
     "metadata": {},
     "output_type": "display_data",
     "jetTransient": {
      "display_id": null
     }
    }
   ],
   "execution_count": 22
  },
  {
   "metadata": {},
   "cell_type": "markdown",
   "source": [
    "## Data Reshaping (Pivot)\n",
    "Average survivors by class and port of embarkation.\n",
    "\n",
    "Pandas pivot_table allows you to reorganize the data to facilitate analysis."
   ],
   "id": "7dd4cad63c1d0d8e"
  },
  {
   "metadata": {
    "ExecuteTime": {
     "end_time": "2025-10-24T21:58:31.310147Z",
     "start_time": "2025-10-24T21:58:31.304435Z"
    }
   },
   "cell_type": "code",
   "source": [
    "df_avg_passenger_survival_by_class = df_titanic.pivot_table(\n",
    "    values='Survived',\n",
    "    index=['Pclass', 'Embarked'],\n",
    "    aggfunc='mean',\n",
    "    fill_value=0\n",
    ").round(2)\n",
    "\n",
    "print(df_avg_passenger_survival_by_class.head())"
   ],
   "id": "a18525fa7a82098b",
   "outputs": [
    {
     "name": "stdout",
     "output_type": "stream",
     "text": [
      "                 Survived\n",
      "Pclass Embarked          \n",
      "1      C             0.69\n",
      "       Q             0.50\n",
      "       S             0.58\n",
      "2      C             0.53\n",
      "       Q             0.67\n"
     ]
    }
   ],
   "execution_count": 15
  },
  {
   "metadata": {
    "ExecuteTime": {
     "end_time": "2025-10-24T22:23:05.054674Z",
     "start_time": "2025-10-24T22:23:04.980679Z"
    }
   },
   "cell_type": "code",
   "source": [
    "df_avg_passenger_survival_by_class.unstack().plot(kind='bar')\n",
    "plt.ylabel('Average Survival Rate')\n",
    "plt.title('Average Survival Rate by Class and Embarkation Port')\n",
    "plt.xticks(rotation=0)\n",
    "plt.show()"
   ],
   "id": "3939376a6b464187",
   "outputs": [
    {
     "data": {
      "text/plain": [
       "<Figure size 640x480 with 1 Axes>"
      ],
      "image/png": "[encoded data removed]"
     },
     "metadata": {},
     "output_type": "display_data",
     "jetTransient": {
      "display_id": null
     }
    }
   ],
   "execution_count": 23
  },
  {
   "metadata": {},
   "cell_type": "markdown",
   "source": "The unstack() method in Pandas transforms a row index into columns. In the example, it converts the multi-index (Pclass, Embarked) into columns, making it easier to visualize grouped data in a bar chart.\n",
   "id": "231793c3bae5f07e"
  }
 ],
 "metadata": {
  "kernelspec": {
   "display_name": "Python 3",
   "language": "python",
   "name": "python3"
  },
  "language_info": {
   "codemirror_mode": {
    "name": "ipython",
    "version": 2
   },
   "file_extension": ".py",
   "mimetype": "text/x-python",
   "name": "python",
   "nbconvert_exporter": "python",
   "pygments_lexer": "ipython2",
   "version": "2.7.6"
  }
 },
 "nbformat": 4,
 "nbformat_minor": 5
}
